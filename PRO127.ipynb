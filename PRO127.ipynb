{
  "nbformat": 4,
  "nbformat_minor": 0,
  "metadata": {
    "colab": {
      "name": "PRO127.ipynb",
      "provenance": [],
      "collapsed_sections": [],
      "authorship_tag": "ABX9TyM9KDcrhc9S6Zj+Kz3MdDwI",
      "include_colab_link": true
    },
    "kernelspec": {
      "name": "python3",
      "display_name": "Python 3"
    },
    "language_info": {
      "name": "python"
    }
  },
  "cells": [
    {
      "cell_type": "markdown",
      "metadata": {
        "id": "view-in-github",
        "colab_type": "text"
      },
      "source": [
        "<a href=\"https://colab.research.google.com/github/Aditya112008/Project127/blob/main/PRO127.ipynb\" target=\"_parent\"><img src=\"https://colab.research.google.com/assets/colab-badge.svg\" alt=\"Open In Colab\"/></a>"
      ]
    },
    {
      "cell_type": "code",
      "metadata": {
        "id": "2xixAU1-6EgB"
      },
      "source": [
        "from bs4 import BeautifulSoup as bs\n",
        "import requests\n",
        "import pandas as pd"
      ],
      "execution_count": 1,
      "outputs": []
    },
    {
      "cell_type": "code",
      "metadata": {
        "colab": {
          "base_uri": "https://localhost:8080/"
        },
        "id": "owyoBR2v6bHw",
        "outputId": "97be4629-cc0e-4905-8818-4ba3d248ed41"
      },
      "source": [
        "\n",
        "bright_stars_url = 'https://en.wikipedia.org/wiki/List_of_brightest_stars_and_other_record_stars'\n",
        "\n",
        "page = requests.get(bright_stars_url)\n",
        "print(page)\n",
        "\n",
        "soup = bs(page.text,'html.parser')\n",
        "\n",
        "star_table = soup.find('table')\n"
      ],
      "execution_count": 2,
      "outputs": [
        {
          "output_type": "stream",
          "text": [
            "<Response [200]>\n"
          ],
          "name": "stdout"
        }
      ]
    },
    {
      "cell_type": "code",
      "metadata": {
        "colab": {
          "base_uri": "https://localhost:8080/"
        },
        "id": "MZ8aGsHc6fqE",
        "outputId": "4baccb55-6f48-4fe8-986e-5e6654899fde"
      },
      "source": [
        "temp_list= []\n",
        "table_rows = star_table.find_all('tr')\n",
        "for tr in table_rows:\n",
        "    td = tr.find_all('td')\n",
        "    row = [i.text.rstrip() for i in td]\n",
        "    temp_list.append(row)\n",
        "\n",
        "\n",
        "\n",
        "Star_names = []\n",
        "Distance =[]\n",
        "Mass = []\n",
        "Radius =[]\n",
        "Lum = []\n",
        "\n",
        "for i in range(1,len(temp_list)):\n",
        "    Star_names.append(temp_list[i][1])\n",
        "    Distance.append(temp_list[i][3])\n",
        "    Mass.append(temp_list[i][5])\n",
        "    Radius.append(temp_list[i][6])\n",
        "    Lum.append(temp_list[i][7])\n",
        "    \n",
        "df2 = pd.DataFrame(list(zip(Star_names,Distance,Mass,Radius,Lum)),columns=['Star_name','Distance','Mass','Radius','Luminosity'])\n",
        "print(df2)\n",
        "\n",
        "df2.to_csv('bright_stars_1.csv')"
      ],
      "execution_count": 3,
      "outputs": [
        {
          "output_type": "stream",
          "text": [
            "           Star_name         Distance   Mass         Radius   Luminosity\n",
            "0                Sun      0.000015813      1              1            1\n",
            "1             Sirius           0008.6    2.1          1.71´         25.4\n",
            "2            Canopus             0310     15             71       13,500\n",
            "3     Alpha Centauri           0004.4    1.1            1.2            2\n",
            "4           Arcturus             0037    1.1             26          170\n",
            "..               ...              ...    ...            ...          ...\n",
            "92           WOH G64         0163,000    <20  1,540 - 1,730  340-589,000\n",
            "93        TRAPPIST-1            039.6  0.089           0.12       0.0005\n",
            "94  2MASS J0523-1403            040.3   0.07          0.086      0.00013\n",
            "95    WISE 0855−0714            07.27  0.003              ?            ?\n",
            "96            Icarus  014,400,000,000     33              ?      850,000\n",
            "\n",
            "[97 rows x 5 columns]\n"
          ],
          "name": "stdout"
        }
      ]
    }
  ]
}